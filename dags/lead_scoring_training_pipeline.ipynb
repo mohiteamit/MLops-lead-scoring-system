{
 "cells": [
  {
   "cell_type": "markdown",
   "metadata": {},
   "source": [
    "1. start_mlflow \n",
    "2. encoding_categorical_variables\n",
    "3. training_model\n"
   ]
  },
  {
   "cell_type": "code",
   "execution_count": 1,
   "metadata": {},
   "outputs": [],
   "source": [
    "import warnings\n",
    "warnings.filterwarnings(\"ignore\")"
   ]
  },
  {
   "cell_type": "code",
   "execution_count": 2,
   "metadata": {},
   "outputs": [],
   "source": [
    "from lead_scoring_training_pipeline.utils import start_mlflow_server_if_not_running, encode_features, get_trained_model"
   ]
  },
  {
   "cell_type": "code",
   "execution_count": 3,
   "metadata": {},
   "outputs": [
    {
     "name": "stdout",
     "output_type": "stream",
     "text": [
      "MLflow server already running on port 6006.\n"
     ]
    }
   ],
   "source": [
    "start_mlflow_server_if_not_running()"
   ]
  },
  {
   "cell_type": "code",
   "execution_count": 4,
   "metadata": {},
   "outputs": [],
   "source": [
    "encode_features()"
   ]
  },
  {
   "cell_type": "code",
   "execution_count": 5,
   "metadata": {},
   "outputs": [
    {
     "name": "stdout",
     "output_type": "stream",
     "text": [
      "Best run ID: 9e747783cf7f407da161b8a329c5c188\n",
      "Best AUC Score: 0.8211\n",
      "Model Name: Light Gradient Boosting Machine\n",
      "[LightGBM] [Warning] bagging_fraction is set=0.7270347957141144, subsample=1.0 will be ignored. Current value: bagging_fraction=0.7270347957141144\n",
      "[LightGBM] [Warning] feature_fraction is set=0.6941874692691037, colsample_bytree=1.0 will be ignored. Current value: feature_fraction=0.6941874692691037\n",
      "[LightGBM] [Warning] bagging_freq is set=6, subsample_freq=0 will be ignored. Current value: bagging_freq=6\n",
      "[LightGBM] [Warning] bagging_fraction is set=0.7270347957141144, subsample=1.0 will be ignored. Current value: bagging_fraction=0.7270347957141144\n",
      "[LightGBM] [Warning] feature_fraction is set=0.6941874692691037, colsample_bytree=1.0 will be ignored. Current value: feature_fraction=0.6941874692691037\n",
      "[LightGBM] [Warning] bagging_freq is set=6, subsample_freq=0 will be ignored. Current value: bagging_freq=6\n",
      "[LightGBM] [Warning] bagging_fraction is set=0.7270347957141144, subsample=1.0 will be ignored. Current value: bagging_fraction=0.7270347957141144\n",
      "[LightGBM] [Warning] feature_fraction is set=0.6941874692691037, colsample_bytree=1.0 will be ignored. Current value: feature_fraction=0.6941874692691037\n",
      "[LightGBM] [Warning] bagging_freq is set=6, subsample_freq=0 will be ignored. Current value: bagging_freq=6\n",
      "[LightGBM] [Warning] bagging_fraction is set=0.7270347957141144, subsample=1.0 will be ignored. Current value: bagging_fraction=0.7270347957141144\n",
      "[LightGBM] [Warning] feature_fraction is set=0.6941874692691037, colsample_bytree=1.0 will be ignored. Current value: feature_fraction=0.6941874692691037\n",
      "[LightGBM] [Warning] bagging_freq is set=6, subsample_freq=0 will be ignored. Current value: bagging_freq=6\n",
      "[LightGBM] [Warning] bagging_fraction is set=0.7270347957141144, subsample=1.0 will be ignored. Current value: bagging_fraction=0.7270347957141144\n",
      "[LightGBM] [Warning] feature_fraction is set=0.6941874692691037, colsample_bytree=1.0 will be ignored. Current value: feature_fraction=0.6941874692691037\n",
      "[LightGBM] [Warning] bagging_freq is set=6, subsample_freq=0 will be ignored. Current value: bagging_freq=6\n",
      "New model logged with cross-validated AUC: 0.8123\n"
     ]
    },
    {
     "name": "stderr",
     "output_type": "stream",
     "text": [
      "Registered model 'LightGBM' already exists. Creating a new version of this model...\n",
      "2025/04/03 22:09:31 INFO mlflow.tracking._model_registry.client: Waiting up to 300 seconds for model version to finish creation.                     Model name: LightGBM, version 6\n",
      "Created version '6' of model 'LightGBM'.\n"
     ]
    },
    {
     "name": "stdout",
     "output_type": "stream",
     "text": [
      "Promoted version 6 of 'LightGBM' to Production.\n"
     ]
    }
   ],
   "source": [
    "get_trained_model()"
   ]
  },
  {
   "cell_type": "code",
   "execution_count": 6,
   "metadata": {},
   "outputs": [],
   "source": [
    "# import psutil\n",
    "\n",
    "# def kill_process_on_port(port):\n",
    "#     \"\"\"Find and kill process using the specified port.\"\"\"\n",
    "#     for proc in psutil.process_iter(['pid', 'name', 'connections']):\n",
    "#         try:\n",
    "#             for conn in proc.info['connections']:\n",
    "#                 if conn.status == psutil.CONN_LISTEN and conn.laddr.port == port:\n",
    "#                     print(f\"Killing process '{proc.info['name']}' with PID {proc.info['pid']} on port {port}\")\n",
    "#                     psutil.Process(proc.info['pid']).terminate()\n",
    "#                     return\n",
    "#         except (psutil.NoSuchProcess, psutil.AccessDenied, psutil.ZombieProcess):\n",
    "#             continue\n",
    "#     print(f\"No process found on port {port}.\")\n",
    "\n",
    "# # Kill MLflow server running on port 6006\n",
    "# kill_process_on_port(6006)"
   ]
  }
 ],
 "metadata": {
  "kernelspec": {
   "display_name": "Python 3.8.12 ('base')",
   "language": "python",
   "name": "python3"
  },
  "language_info": {
   "codemirror_mode": {
    "name": "ipython",
    "version": 3
   },
   "file_extension": ".py",
   "mimetype": "text/x-python",
   "name": "python",
   "nbconvert_exporter": "python",
   "pygments_lexer": "ipython3",
   "version": "3.8.12"
  },
  "vscode": {
   "interpreter": {
    "hash": "d4d1e4263499bec80672ea0156c357c1ee493ec2b1c70f0acce89fc37c4a6abe"
   }
  }
 },
 "nbformat": 4,
 "nbformat_minor": 2
}
