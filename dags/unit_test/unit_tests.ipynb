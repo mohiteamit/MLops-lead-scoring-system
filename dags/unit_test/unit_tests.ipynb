{
 "cells": [
  {
   "cell_type": "code",
   "execution_count": 1,
   "metadata": {},
   "outputs": [],
   "source": [
    "import sqlite3\n",
    "import pandas as pd\n",
    "import warnings\n",
    "\n",
    "import sys\n",
    "import os\n",
    "\n",
    "sys.path.insert(0, os.path.abspath(\"/home/airflow/dags\"))\n",
    "\n",
    "from lead_scoring_data_pipeline.utils import (\n",
    "    build_dbs,\n",
    "    load_data_into_db,\n",
    "    map_city_tier,\n",
    "    map_categorical_vars,\n",
    "    interactions_mapping\n",
    ")\n",
    "\n",
    "from lead_scoring_data_pipeline.constants import (\n",
    "    DB_FULL_PATH\n",
    ")\n",
    "\n",
    "from constants import (\n",
    "    UNIT_TEST_DB_PATH,\n",
    "    UNIT_TEST_DB_FILE_NAME,\n",
    "    TEST_DATA_CSV_PATH\n",
    ")\n",
    "\n",
    "warnings.filterwarnings(\"ignore\")"
   ]
  },
  {
   "cell_type": "code",
   "execution_count": 2,
   "metadata": {},
   "outputs": [],
   "source": [
    "load_data_into_db(TEST_DATA_CSV_PATH)\n",
    "conn = sqlite3.connect(DB_FULL_PATH)\n",
    "loaded_data = pd.read_sql('SELECT * FROM loaded_data', conn)\n",
    "conn_ut = sqlite3.connect(UNIT_TEST_DB_PATH + UNIT_TEST_DB_FILE_NAME)\n",
    "test_case = pd.read_sql('SELECT * FROM loaded_data_test_case', conn_ut)\n",
    "conn.close()\n",
    "conn_ut.close()\n",
    "assert test_case.equals(loaded_data), \"❌ Data mismatch in load_data_into_db()\""
   ]
  },
  {
   "cell_type": "code",
   "execution_count": 3,
   "metadata": {},
   "outputs": [],
   "source": [
    "map_city_tier()\n",
    "conn = sqlite3.connect(DB_FULL_PATH)\n",
    "output_df = pd.read_sql('SELECT * FROM city_tier_mapped', conn)\n",
    "conn_ut = sqlite3.connect(UNIT_TEST_DB_PATH + UNIT_TEST_DB_FILE_NAME)\n",
    "expected_df = pd.read_sql('SELECT * FROM city_tier_mapped_test_case', conn_ut)\n",
    "conn.close()\n",
    "conn_ut.close()\n",
    "assert expected_df.equals(output_df), \"❌ Data mismatch in map_city_tier()\""
   ]
  },
  {
   "cell_type": "code",
   "execution_count": 4,
   "metadata": {},
   "outputs": [],
   "source": [
    "map_categorical_vars()\n",
    "conn = sqlite3.connect(DB_FULL_PATH)\n",
    "output_df = pd.read_sql('SELECT * FROM categorical_variables_mapped', conn)\n",
    "conn_ut = sqlite3.connect(UNIT_TEST_DB_PATH + UNIT_TEST_DB_FILE_NAME)\n",
    "expected_df = pd.read_sql('SELECT * FROM categorical_variables_mapped_test_case', conn_ut)\n",
    "conn.close()\n",
    "conn_ut.close()\n",
    "assert expected_df.equals(output_df), \"❌ Data mismatch in map_categorical_vars()\""
   ]
  },
  {
   "cell_type": "code",
   "execution_count": 5,
   "metadata": {},
   "outputs": [],
   "source": [
    "interactions_mapping(\"final_output\")\n"
   ]
  },
  {
   "cell_type": "code",
   "execution_count": 6,
   "metadata": {},
   "outputs": [],
   "source": [
    "conn = sqlite3.connect(DB_FULL_PATH)\n"
   ]
  },
  {
   "cell_type": "code",
   "execution_count": 7,
   "metadata": {},
   "outputs": [],
   "source": [
    "tables = pd.read_sql(\"SELECT name FROM sqlite_master WHERE type='table';\", conn)\n"
   ]
  },
  {
   "cell_type": "code",
   "execution_count": 8,
   "metadata": {},
   "outputs": [
    {
     "data": {
      "text/html": [
       "<div>\n",
       "<style scoped>\n",
       "    .dataframe tbody tr th:only-of-type {\n",
       "        vertical-align: middle;\n",
       "    }\n",
       "\n",
       "    .dataframe tbody tr th {\n",
       "        vertical-align: top;\n",
       "    }\n",
       "\n",
       "    .dataframe thead th {\n",
       "        text-align: right;\n",
       "    }\n",
       "</style>\n",
       "<table border=\"1\" class=\"dataframe\">\n",
       "  <thead>\n",
       "    <tr style=\"text-align: right;\">\n",
       "      <th></th>\n",
       "      <th>name</th>\n",
       "    </tr>\n",
       "  </thead>\n",
       "  <tbody>\n",
       "    <tr>\n",
       "      <th>0</th>\n",
       "      <td>TRAINING</td>\n",
       "    </tr>\n",
       "    <tr>\n",
       "      <th>1</th>\n",
       "      <td>INFERENCE</td>\n",
       "    </tr>\n",
       "    <tr>\n",
       "      <th>2</th>\n",
       "      <td>FEATURES</td>\n",
       "    </tr>\n",
       "    <tr>\n",
       "      <th>3</th>\n",
       "      <td>TARGET</td>\n",
       "    </tr>\n",
       "    <tr>\n",
       "      <th>4</th>\n",
       "      <td>PREDICTIONS</td>\n",
       "    </tr>\n",
       "    <tr>\n",
       "      <th>5</th>\n",
       "      <td>loaded_data</td>\n",
       "    </tr>\n",
       "    <tr>\n",
       "      <th>6</th>\n",
       "      <td>city_tier_mapped</td>\n",
       "    </tr>\n",
       "    <tr>\n",
       "      <th>7</th>\n",
       "      <td>categorical_variables_mapped</td>\n",
       "    </tr>\n",
       "    <tr>\n",
       "      <th>8</th>\n",
       "      <td>interactions_mapped</td>\n",
       "    </tr>\n",
       "    <tr>\n",
       "      <th>9</th>\n",
       "      <td>final_output</td>\n",
       "    </tr>\n",
       "  </tbody>\n",
       "</table>\n",
       "</div>"
      ],
      "text/plain": [
       "                           name\n",
       "0                      TRAINING\n",
       "1                     INFERENCE\n",
       "2                      FEATURES\n",
       "3                        TARGET\n",
       "4                   PREDICTIONS\n",
       "5                   loaded_data\n",
       "6              city_tier_mapped\n",
       "7  categorical_variables_mapped\n",
       "8           interactions_mapped\n",
       "9                  final_output"
      ]
     },
     "execution_count": 8,
     "metadata": {},
     "output_type": "execute_result"
    }
   ],
   "source": [
    "tables"
   ]
  },
  {
   "cell_type": "code",
   "execution_count": 9,
   "metadata": {},
   "outputs": [],
   "source": [
    "output_df = pd.read_sql('SELECT * FROM interactions_mapped', conn)\n"
   ]
  },
  {
   "cell_type": "code",
   "execution_count": 10,
   "metadata": {},
   "outputs": [],
   "source": [
    "conn_ut = sqlite3.connect(UNIT_TEST_DB_PATH + UNIT_TEST_DB_FILE_NAME)\n",
    "expected_df = pd.read_sql('SELECT * FROM interactions_mapped_test_case', conn_ut)\n",
    "conn.close()\n",
    "conn_ut.close()\n",
    "assert expected_df.equals(output_df), \"❌ Data mismatch in interactions_mapping()\"\n"
   ]
  }
 ],
 "metadata": {
  "kernelspec": {
   "display_name": "Python 3.8.12 ('base')",
   "language": "python",
   "name": "python3"
  },
  "language_info": {
   "codemirror_mode": {
    "name": "ipython",
    "version": 3
   },
   "file_extension": ".py",
   "mimetype": "text/x-python",
   "name": "python",
   "nbconvert_exporter": "python",
   "pygments_lexer": "ipython3",
   "version": "3.8.12"
  },
  "orig_nbformat": 4,
  "vscode": {
   "interpreter": {
    "hash": "d4d1e4263499bec80672ea0156c357c1ee493ec2b1c70f0acce89fc37c4a6abe"
   }
  }
 },
 "nbformat": 4,
 "nbformat_minor": 2
}
