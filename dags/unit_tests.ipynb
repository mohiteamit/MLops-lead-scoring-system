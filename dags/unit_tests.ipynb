{
 "cells": [
  {
   "cell_type": "code",
   "execution_count": 6,
   "metadata": {},
   "outputs": [],
   "source": [
    "import sqlite3\n",
    "import pandas as pd\n",
    "import warnings\n",
    "\n",
    "import sys\n",
    "import os\n",
    "\n",
    "sys.path.insert(0, os.path.abspath(\"/home/airflow/dags\"))\n",
    "\n",
    "from lead_scoring_data_pipeline.utils import (\n",
    "    build_dbs,\n",
    "    load_data_into_db,\n",
    "    map_city_tier,\n",
    "    map_categorical_vars,\n",
    "    interactions_mapping\n",
    ")\n",
    "\n",
    "from lead_scoring_data_pipeline.constants import (\n",
    "    DB_FULL_PATH\n",
    ")\n",
    "\n",
    "from unit_test.constants import (\n",
    "    UNIT_TEST_DB_PATH,\n",
    "    UNIT_TEST_DB_FILE_NAME,\n",
    "    TEST_DATA_CSV_PATH,\n",
    "    TABLE_NAME\n",
    ")\n",
    "\n",
    "warnings.filterwarnings(\"ignore\")"
   ]
  },
  {
   "cell_type": "code",
   "execution_count": 7,
   "metadata": {},
   "outputs": [],
   "source": [
    "load_data_into_db(TEST_DATA_CSV_PATH)\n",
    "conn = sqlite3.connect(DB_FULL_PATH)\n",
    "loaded_data = pd.read_sql('SELECT * FROM loaded_data', conn)\n",
    "conn_ut = sqlite3.connect(UNIT_TEST_DB_PATH + UNIT_TEST_DB_FILE_NAME)\n",
    "test_case = pd.read_sql('SELECT * FROM loaded_data_test_case', conn_ut)\n",
    "conn.close()\n",
    "conn_ut.close()\n",
    "assert test_case.equals(loaded_data), \"Data mismatch in load_data_into_db()\""
   ]
  },
  {
   "cell_type": "code",
   "execution_count": 8,
   "metadata": {},
   "outputs": [],
   "source": [
    "map_city_tier()\n",
    "conn = sqlite3.connect(DB_FULL_PATH)\n",
    "output_df = pd.read_sql('SELECT * FROM city_tier_mapped', conn)\n",
    "conn_ut = sqlite3.connect(UNIT_TEST_DB_PATH + UNIT_TEST_DB_FILE_NAME)\n",
    "expected_df = pd.read_sql('SELECT * FROM city_tier_mapped_test_case', conn_ut)\n",
    "conn.close()\n",
    "conn_ut.close()\n",
    "assert expected_df.equals(output_df), \"Data mismatch in map_city_tier()\""
   ]
  },
  {
   "cell_type": "code",
   "execution_count": 9,
   "metadata": {},
   "outputs": [],
   "source": [
    "map_categorical_vars()\n",
    "conn = sqlite3.connect(DB_FULL_PATH)\n",
    "output_df = pd.read_sql('SELECT * FROM categorical_variables_mapped', conn)\n",
    "conn_ut = sqlite3.connect(UNIT_TEST_DB_PATH + UNIT_TEST_DB_FILE_NAME)\n",
    "expected_df = pd.read_sql('SELECT * FROM categorical_variables_mapped_test_case', conn_ut)\n",
    "conn.close()\n",
    "conn_ut.close()\n",
    "assert expected_df.equals(output_df), \"Data mismatch in map_categorical_vars()\""
   ]
  },
  {
   "cell_type": "code",
   "execution_count": 10,
   "metadata": {},
   "outputs": [],
   "source": [
    "interactions_mapping(TABLE_NAME)\n",
    "conn = sqlite3.connect(DB_FULL_PATH)\n",
    "output_df = pd.read_sql('SELECT * FROM interactions_mapped', conn)\n",
    "conn_ut = sqlite3.connect(UNIT_TEST_DB_PATH + UNIT_TEST_DB_FILE_NAME)\n",
    "expected_df = pd.read_sql('SELECT * FROM interactions_mapped_test_case', conn_ut)\n",
    "conn.close()\n",
    "conn_ut.close()\n",
    "assert expected_df.equals(output_df), \"Data mismatch in interactions_mapping()\"\n"
   ]
  }
 ],
 "metadata": {
  "kernelspec": {
   "display_name": "Python 3.8.12 ('base')",
   "language": "python",
   "name": "python3"
  },
  "language_info": {
   "codemirror_mode": {
    "name": "ipython",
    "version": 3
   },
   "file_extension": ".py",
   "mimetype": "text/x-python",
   "name": "python",
   "nbconvert_exporter": "python",
   "pygments_lexer": "ipython3",
   "version": "3.8.12"
  },
  "orig_nbformat": 4,
  "vscode": {
   "interpreter": {
    "hash": "d4d1e4263499bec80672ea0156c357c1ee493ec2b1c70f0acce89fc37c4a6abe"
   }
  }
 },
 "nbformat": 4,
 "nbformat_minor": 2
}
